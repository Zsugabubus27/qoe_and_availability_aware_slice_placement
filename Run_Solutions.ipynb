{
 "cells": [
  {
   "cell_type": "code",
   "execution_count": 1,
   "id": "4a3c16f6-ec2e-44d1-8c2c-20174b1033c1",
   "metadata": {
    "execution": {
     "iopub.execute_input": "2024-08-30T07:53:15.713020Z",
     "iopub.status.busy": "2024-08-30T07:53:15.712465Z",
     "iopub.status.idle": "2024-08-30T07:53:15.967852Z",
     "shell.execute_reply": "2024-08-30T07:53:15.966923Z",
     "shell.execute_reply.started": "2024-08-30T07:53:15.713003Z"
    }
   },
   "outputs": [],
   "source": [
    "import networkx as nx\n",
    "import time\n",
    "import pickle\n",
    "\n",
    "from heuristic_custom import HeuristicCustom\n",
    "from heuristic_rvsa import HeuristicRVSA\n",
    "from heuristic_obj_max import ObjectiveFunctionMaximizer\n",
    "from exact_gurobi import ExactSolutionGurobi"
   ]
  },
  {
   "cell_type": "markdown",
   "id": "b0cd1c64-f67e-44d3-b68a-c38f23a6d50a",
   "metadata": {
    "execution": {
     "iopub.execute_input": "2024-08-30T07:07:46.683714Z",
     "iopub.status.busy": "2024-08-30T07:07:46.683347Z",
     "iopub.status.idle": "2024-08-30T07:07:46.687282Z",
     "shell.execute_reply": "2024-08-30T07:07:46.686351Z",
     "shell.execute_reply.started": "2024-08-30T07:07:46.683698Z"
    }
   },
   "source": [
    "# Configure the parameters of the Framework"
   ]
  },
  {
   "cell_type": "code",
   "execution_count": 2,
   "id": "691e8739-66c3-4685-9df2-4bf2cb13f9eb",
   "metadata": {
    "execution": {
     "iopub.execute_input": "2024-08-30T07:53:19.225361Z",
     "iopub.status.busy": "2024-08-30T07:53:19.224943Z",
     "iopub.status.idle": "2024-08-30T07:53:19.241176Z",
     "shell.execute_reply": "2024-08-30T07:53:19.240180Z",
     "shell.execute_reply.started": "2024-08-30T07:53:19.225343Z"
    }
   },
   "outputs": [],
   "source": [
    "# Create an undirected graph for the substrate network\n",
    "substrate_network = nx.Graph()\n",
    "\n",
    "# Add nodes with physical capacities and availability\n",
    "substrate_network.add_node('S', capacity={'cpu': 10, 'memory': 20}, availability=1)\n",
    "substrate_network.add_node('A', capacity={'cpu': 10, 'memory': 20}, availability=0.99)\n",
    "substrate_network.add_node('B', capacity={'cpu': 10, 'memory': 20}, availability=0.85)\n",
    "substrate_network.add_node('C', capacity={'cpu': 10, 'memory': 20}, availability=0.98)\n",
    "substrate_network.add_node('G', capacity={'cpu': 10, 'memory': 20}, availability=0.99)\n",
    "substrate_network.add_node('D', capacity={'cpu': 10, 'memory': 20}, availability=1)\n",
    "\n",
    "# Add edges with bandwidth, delay, and availability\n",
    "substrate_network.add_edge('S', 'A', bandwidth=10, delay=10, availability=0.9)\n",
    "substrate_network.add_edge('S', 'C', bandwidth=10, delay=10, availability=0.95)\n",
    "substrate_network.add_edge('A', 'B', bandwidth=10, delay=10, availability=0.8)\n",
    "substrate_network.add_edge('A', 'G', bandwidth=10, delay=10, availability=0.7)\n",
    "substrate_network.add_edge('A', 'C', bandwidth=10, delay=10, availability=0.6)\n",
    "substrate_network.add_edge('C', 'G', bandwidth=10, delay=10, availability=0.75)\n",
    "substrate_network.add_edge('C', 'B', bandwidth=10, delay=10, availability=0.85)\n",
    "substrate_network.add_edge('B', 'G', bandwidth=10, delay=10, availability=0.5)\n",
    "substrate_network.add_edge('B', 'D', bandwidth=10, delay=10, availability=0.95)\n",
    "substrate_network.add_edge('G', 'D', bandwidth=10, delay=10, availability=0.88)\n",
    "\n",
    "# Example slice request 1\n",
    "slice_request_1 = nx.DiGraph()\n",
    "slice_request_1.add_node('S1', demand={'cpu': 0, 'memory': 0})\n",
    "slice_request_1.add_node('F1', demand={'cpu': 2, 'memory': 2})\n",
    "slice_request_1.add_node('F2', demand={'cpu': 5, 'memory': 5})\n",
    "slice_request_1.add_node('D1', demand={'cpu': 0, 'memory': 0})\n",
    "slice_request_1.add_edge('S1', 'F1', bandwidth=3)\n",
    "slice_request_1.add_edge('F1', 'F2', bandwidth=3)\n",
    "slice_request_1.add_edge('F2', 'D1', bandwidth=3)\n",
    "slice_request_1.add_edge('F1', 'D1', bandwidth=3)\n",
    "slice_request_1.graph['max_delay'] = 50  # Maximum end-to-end delay requirement for slice 1\n",
    "slice_request_1.graph['min_availability'] = 0.1  # Minimum availability requirement for slice 1\n",
    "slice_request_1.graph['max_placement_groups'] = 1  # K_i for slice 1\n",
    "slice_request_1.graph['node_s_mapping'] = ('S1', 'S') # S1 should be mapped to S\n",
    "slice_request_1.graph['node_d_mapping'] = ('D1', 'D') # D1 should be mapped to D\n",
    "\n",
    "# Example slice request 2\n",
    "slice_request_2 = nx.DiGraph()\n",
    "slice_request_2.add_node('S2', demand={'cpu': 0, 'memory': 0})\n",
    "slice_request_2.add_node('VNF1', demand={'cpu': 2, 'memory': 3})\n",
    "slice_request_2.add_node('VNF2', demand={'cpu': 5, 'memory': 4})\n",
    "slice_request_2.add_node('D2', demand={'cpu': 0, 'memory': 0})\n",
    "slice_request_2.add_edge('S2', 'VNF1', bandwidth=3)\n",
    "slice_request_2.add_edge('VNF1', 'VNF2', bandwidth=3)\n",
    "slice_request_2.add_edge('VNF2', 'D2', bandwidth=3)\n",
    "slice_request_2.graph['max_delay'] = 60  # Maximum end-to-end delay requirement for slice 2\n",
    "slice_request_2.graph['min_availability'] = 0.75  # Minimum availability requirement for slice 2\n",
    "slice_request_2.graph['max_placement_groups'] = 2  # K_i for slice 2\n",
    "slice_request_2.graph['node_s_mapping'] = ('S2', 'S') # S1 should be mapped to S\n",
    "slice_request_2.graph['node_d_mapping'] = ('D2', 'D') # D1 should be mapped to D\n",
    "\n",
    "\n",
    "# Create a dictionary of slice requests\n",
    "slice_requests = {1: slice_request_1, 2: slice_request_2}\n",
    "\n",
    "object_coeffs = {\n",
    "    # Coefficients for the objective function\n",
    "    'rho1' : 1, 'rho2' : 1, 'rho3' : 1,\n",
    "    # Coefficients for QoE function coefficients (per resources per slice request)\n",
    "    'beta' : {(1, 'cpu') : 1.8, (1, 'memory') : 1.8, (1, 'delay') : 1, (1, 'bw') : 1.8,\n",
    "              (2, 'cpu') : 1.8, (2, 'memory') : 1.8, (2, 'delay') : 1, (2, 'bw') : 1.8},\n",
    "    'gamma' : {(1, 'cpu') : 1, (1, 'memory') : 1, (1, 'delay') : -3.9, (1, 'bw') : 1,\n",
    "               (2, 'cpu') : 1, (2, 'memory') : 1, (2, 'delay') : -3.9, (2, 'bw') : 1},\n",
    "    'lambda' : {(1, 'cpu') : -0.93, (1, 'memory') : -0.93, (1, 'delay') : 1.6, (1, 'bw') : -0.93,\n",
    "                (2, 'cpu') : -0.93, (2, 'memory') : -0.93, (2, 'delay') : 1.6, (2, 'bw') : -0.93},\n",
    "    'mu' : {(1, 'cpu') : 4.8, (1, 'memory') : 4.8, (1, 'delay') : -0.1, (1, 'bw') : 4.8,\n",
    "            (2, 'cpu') : 4.8, (2, 'memory') : 4.8, (2, 'delay') : -0.1, (2, 'bw') : 4.8},\n",
    "}"
   ]
  },
  {
   "cell_type": "markdown",
   "id": "94a7cafd-3bdc-4dc5-8ac5-4f0fd52ef667",
   "metadata": {},
   "source": [
    "# Run Solutions"
   ]
  },
  {
   "cell_type": "markdown",
   "id": "dfadbc90-16bc-4de3-a26a-3234c1d6e2fa",
   "metadata": {},
   "source": [
    "## Run Exact Solution using Gurobi"
   ]
  },
  {
   "cell_type": "code",
   "execution_count": 3,
   "id": "32cb42b6-5955-4213-8446-706815212ef5",
   "metadata": {
    "execution": {
     "iopub.execute_input": "2024-08-30T07:53:21.240856Z",
     "iopub.status.busy": "2024-08-30T07:53:21.240476Z",
     "iopub.status.idle": "2024-08-30T07:53:21.291174Z",
     "shell.execute_reply": "2024-08-30T07:53:21.290216Z",
     "shell.execute_reply.started": "2024-08-30T07:53:21.240839Z"
    }
   },
   "outputs": [
    {
     "name": "stdout",
     "output_type": "stream",
     "text": [
      "Set parameter WLSAccessID\n",
      "Set parameter WLSSecret\n",
      "Set parameter LicenseID to value 2520987\n",
      "Academic license 2520987 - for non-commercial use only - registered to do___@tmit.bme.hu\n",
      "Set parameter LogFile to value \"example_run_exact_model_logs.log\"\n",
      "Set parameter MIQCPMethod to value 1\n",
      "Set parameter MIPFocus to value 2\n",
      "Set parameter PreMIQCPForm to value 1\n",
      "Set parameter PreQLinearize to value 0\n",
      "Set parameter Method to value 2\n",
      "Set parameter Presolve to value 2\n",
      "Set parameter Seed to value 3\n",
      "Set parameter Cuts to value 3\n",
      "Set parameter NodeMethod to value 1\n",
      "Set parameter TimeLimit to value 60\n"
     ]
    }
   ],
   "source": [
    "# Create Solver object\n",
    "exact_solution_obj = ExactSolutionGurobi(G_sub=substrate_network, \n",
    "                                         SFC_dict=slice_requests, \n",
    "                                         obj_coeffs=object_coeffs,\n",
    "                                         log_file_path=f\"example_run_exact_model_logs.log\")\n",
    "# Set parameters of the Gurobi model\n",
    "param_dict = {'MIQCPMethod': 1, 'MIPFocus': 2, 'NonConvex': -1, \n",
    "              'PreMIQCPForm': 1, 'PreQLinearize': 0, 'PSDTol': 1e-06, \n",
    "              'Method': 2, 'Presolve': 2, 'Seed' : 3, 'Cuts': 3, \n",
    "              'NodeMethod': 1, \"TimeLimit\" : 60}\n",
    "for k, v in param_dict.items():\n",
    "    exact_solution_obj.model.setParam(k, v)\n"
   ]
  },
  {
   "cell_type": "code",
   "execution_count": 4,
   "id": "5397c541-2f72-4cbb-aa28-caddfb20721a",
   "metadata": {
    "execution": {
     "iopub.execute_input": "2024-08-30T07:53:23.184889Z",
     "iopub.status.busy": "2024-08-30T07:53:23.184478Z",
     "iopub.status.idle": "2024-08-30T07:54:23.235773Z",
     "shell.execute_reply": "2024-08-30T07:54:23.234936Z",
     "shell.execute_reply.started": "2024-08-30T07:53:23.184872Z"
    }
   },
   "outputs": [
    {
     "name": "stdout",
     "output_type": "stream",
     "text": [
      "Gurobi Optimizer version 11.0.2 build v11.0.2rc0 (linux64 - \"Ubuntu 22.04.4 LTS\")\n",
      "\n",
      "CPU model: AMD Ryzen 5 3600 6-Core Processor, instruction set [SSE2|AVX|AVX2]\n",
      "Thread count: 4 physical cores, 8 logical processors, using up to 8 threads\n",
      "\n",
      "Academic license 2520987 - for non-commercial use only - registered to do___@tmit.bme.hu\n",
      "Optimize a model with 585 rows, 1230 columns and 2148 nonzeros\n",
      "Model fingerprint: 0xf982d54e\n",
      "Model has 2 quadratic objective terms\n",
      "Model has 308 quadratic constraints\n",
      "Model has 408 general constraints\n",
      "Variable types: 779 continuous, 451 integer (449 binary)\n",
      "Coefficient statistics:\n",
      "  Matrix range     [1e-02, 1e+01]\n",
      "  QMatrix range    [1e+00, 1e+00]\n",
      "  QLMatrix range   [1e+00, 1e+00]\n",
      "  Objective range  [1e+00, 1e+00]\n",
      "  QObjective range [2e+00, 2e+00]\n",
      "  Bounds range     [1e+00, 1e+00]\n",
      "  RHS range        [1e+00, 6e+01]\n",
      "  QRHS range       [1e-01, 1e+00]\n",
      "  PWLCon x range   [0e+00, 2e+00]\n",
      "  PWLCon y range   [0e+00, 5e+00]\n",
      "  GenCon rhs range [2e+00, 5e+00]\n",
      "  GenCon coe range [1e+00, 1e+00]\n",
      "Presolve added 459 rows and 0 columns\n",
      "Presolve removed 0 rows and 22 columns\n",
      "Presolve time: 0.06s\n",
      "Presolved: 1718 rows, 1554 columns, 5001 nonzeros\n",
      "Presolved model has 262 SOS constraint(s)\n",
      "Presolved model has 50 bilinear constraint(s)\n",
      "\n",
      "Solving non-convex MIQCP\n",
      "\n",
      "Variable types: 912 continuous, 642 integer (639 binary)\n",
      "Root relaxation presolve removed 573 rows and 633 columns\n",
      "Root relaxation presolved: 1145 rows, 921 columns, 3566 nonzeros\n",
      "\n",
      "Root barrier log...\n",
      "\n",
      "Ordering time: 0.00s\n",
      "\n",
      "Barrier statistics:\n",
      " AA' NZ     : 7.273e+03\n",
      " Factor NZ  : 3.984e+04 (roughly 1 MB of memory)\n",
      " Factor Ops : 2.282e+06 (less than 1 second per iteration)\n",
      " Threads    : 1\n",
      "\n",
      "                  Objective                Residual\n",
      "Iter       Primal          Dual         Primal    Dual     Compl     Time\n",
      "   0  -8.78231451e+02  3.91738693e+03  4.26e+01 3.00e+00  1.99e+01     0s\n",
      "   1  -2.72501010e+02  3.18940784e+03  1.35e+01 7.99e-15  5.93e+00     0s\n",
      "   2  -6.54756847e+01  1.52780474e+03  1.65e+00 3.73e-14  1.02e+00     0s\n",
      "   3  -3.50061856e+01  4.56915464e+02  5.78e-01 1.87e-14  2.70e-01     0s\n",
      "   4  -2.89109626e+00  1.57311065e+02  6.01e-02 7.11e-15  6.64e-02     0s\n",
      "   5   1.07385610e+01  6.22175046e+01  1.11e-02 6.39e-14  2.03e-02     0s\n",
      "   6   1.85041284e+01  3.18007743e+01  3.52e-03 2.49e-14  5.20e-03     0s\n",
      "   7   2.10317091e+01  2.57933207e+01  1.43e-03 1.07e-14  1.86e-03     0s\n",
      "   8   2.18998956e+01  2.44633427e+01  5.64e-04 3.55e-15  9.95e-04     0s\n",
      "   9   2.23629945e+01  2.34817885e+01  2.36e-04 3.55e-15  4.34e-04     0s\n",
      "  10   2.26599288e+01  2.29894290e+01  4.67e-05 2.63e-15  1.27e-04     0s\n",
      "  11   2.26708473e+01  2.28429095e+01  3.70e-05 2.19e-15  6.67e-05     0s\n",
      "  12   2.26974431e+01  2.27591881e+01  2.07e-05 3.70e-15  2.41e-05     0s\n",
      "  13   2.27263956e+01  2.27335603e+01  1.95e-06 3.55e-15  2.79e-06     0s\n",
      "  14   2.27297179e+01  2.27302447e+01  1.16e-07 3.52e-15  2.04e-07     0s\n",
      "  15   2.27299645e+01  2.27299735e+01  2.57e-09 2.87e-15  3.50e-09     0s\n",
      "  16   2.27299705e+01  2.27299708e+01  1.52e-10 7.11e-15  8.77e-11     0s\n",
      "  17   2.27299706e+01  2.27299707e+01  1.66e-08 4.00e-15  6.00e-12     0s\n",
      "\n",
      "Barrier solved model in 17 iterations and 0.16 seconds (0.06 work units)\n",
      "Optimal objective 2.27299706e+01\n",
      "\n",
      "Extra simplex iterations after uncrush: 3\n",
      "\n",
      "Root relaxation: objective 2.272997e+01, 348 iterations, 0.08 seconds (0.02 work units)\n",
      "\n",
      "    Nodes    |    Current Node    |     Objective Bounds      |     Work\n",
      " Expl Unexpl |  Obj  Depth IntInf | Incumbent    BestBd   Gap | It/Node Time\n",
      "\n",
      "     0     0   22.72997    0  234          -   22.72997      -     -    0s\n",
      "     0     0   -6.23650    0  137          -   -6.23650      -     -    0s\n",
      "     0     0  -17.83479    0  149          -  -17.83479      -     -    0s\n",
      "H    0     0                     -88.9244214  -20.55174  76.9%     -    0s\n",
      "H    0     0                     -88.8195671  -20.55174  76.9%     -    0s\n",
      "     0     0  -20.55174    0   71  -88.81957  -20.55174  76.9%     -    0s\n",
      "H    0     0                     -88.8195606  -21.56751  75.7%     -    0s\n",
      "     0     0  -21.56751    0   71  -88.81956  -21.56751  75.7%     -    0s\n",
      "     0     0  -24.88034    0  297  -88.81956  -24.88034  72.0%     -    1s\n",
      "     0     0  -25.43141    0  340  -88.81956  -25.43141  71.4%     -    1s\n",
      "     0     0  -25.84300    0  373  -88.81956  -25.84300  70.9%     -    1s\n",
      "     0     0  -28.49672    0  306  -88.81956  -28.49672  67.9%     -    2s\n",
      "     0     0  -29.21663    0  241  -88.81956  -29.21663  67.1%     -    2s\n",
      "     0     0  -29.57661    0  261  -88.81956  -29.57661  66.7%     -    2s\n",
      "     0     0  -30.22126    0  323  -88.81956  -30.22126  66.0%     -    2s\n",
      "     0     0  -30.23464    0  369  -88.81956  -30.23464  66.0%     -    2s\n",
      "     0     0  -30.27470    0  314  -88.81956  -30.27470  65.9%     -    3s\n",
      "     0     0  -30.28074    0  314  -88.81956  -30.28074  65.9%     -    3s\n",
      "     0     0  -30.28074    0  314  -88.81956  -30.28074  65.9%     -    3s\n",
      "     0     0  -30.28075    0   92  -88.81956  -30.28075  65.9%     -    3s\n",
      "H    0     0                     -88.8195565  -30.28075  65.9%     -    3s\n",
      "     0     0  -30.28075    0   59  -88.81956  -30.28075  65.9%     -    3s\n",
      "     0     0  -30.28075    0   26  -88.81956  -30.28075  65.9%     -    3s\n",
      "     0     0  -30.28075    0   16  -88.81956  -30.28075  65.9%     -    3s\n",
      "     0     0  -30.28075    0   55  -88.81956  -30.28075  65.9%     -    3s\n",
      "     0     0  -31.36993    0   15  -88.81956  -31.36993  64.7%     -    4s\n",
      "     0     0  -31.36993    0   14  -88.81956  -31.36993  64.7%     -    4s\n",
      "     0     0  -31.88863    0   16  -88.81956  -31.88863  64.1%     -    4s\n",
      "     0     0  -31.88863    0   16  -88.81956  -31.88863  64.1%     -    4s\n",
      "H    0     0                     -88.8195548  -31.88863  64.1%     -    4s\n",
      "     0     2  -31.88863    0   16  -88.81955  -31.88863  64.1%     -    4s\n",
      "H    4     8                     -79.2409941  -31.88863  59.8%  53.5    4s\n",
      "H   71    71                     -78.1621802  -33.47395  57.2%  50.6    4s\n",
      "H  109    98                     -77.8797790  -33.47395  57.0%  51.5    4s\n",
      "H  137   116                     -77.8797757  -33.47395  57.0%  46.2    4s\n",
      "H  173   149                     -77.1545226  -33.81005  56.2%  43.2    4s\n",
      "H  178   149                     -77.1545218  -33.81005  56.2%  43.0    4s\n",
      "H  180   149                     -74.9513660  -33.81005  54.9%  42.6    4s\n",
      "   239   217  -55.89190   14   24  -74.95137  -33.81005  54.9%  40.5    5s\n",
      "H  545   388                     -73.8725513  -34.91411  52.7%  33.3    5s\n",
      "H 1042   592                     -73.8725431  -43.78781  40.7%  37.7    5s\n",
      "H 1711   910                     -73.7407886  -46.78781  36.6%  39.3    7s\n",
      "H 1754   901                     -73.7407885  -46.78781  36.6%  40.4    7s\n",
      "H 1814   893                     -73.7407852  -46.78781  36.6%  40.5    7s\n",
      "H 1863   899                     -73.2412156  -46.78781  36.1%  40.0    8s\n",
      "H 1877   856                     -70.2928087  -46.78781  33.4%  39.8    8s\n",
      "H 1947   866                     -69.2139948  -46.78781  32.4%  39.6    8s\n",
      "H 2066   858                     -69.2139941  -46.78781  32.4%  38.3    8s\n",
      "H 2121   863                     -69.2139939  -46.78781  32.4%  38.6    8s\n",
      "H 2185   829                     -69.2139923  -46.78781  32.4%  39.2    8s\n",
      "H 2193   796                     -68.1351792  -46.78781  31.3%  39.2    8s\n",
      "H 2429   834                     -68.1351775  -46.78781  31.3%  39.7    8s\n",
      "H 2901   852                     -68.1351769  -46.78781  31.3%  38.8    8s\n",
      "H 2907   824                     -68.1351766  -46.78781  31.3%  38.8    8s\n",
      "* 2923   756              25     -67.1351809  -46.78781  30.3%  38.9    9s\n",
      "H 3038   728                     -67.1351809  -48.78781  27.3%  39.1    9s\n",
      "H 3042   728                     -67.1351794  -48.78781  27.3%  39.2    9s\n",
      "H 3113   777                     -67.1351760  -48.78781  27.3%  39.6    9s\n",
      "H 3154   777                     -67.1351744  -48.78781  27.3%  39.6    9s\n",
      "H 3736  1019                     -67.1351712  -50.35294  25.0%  41.7    9s\n",
      "  3945  1037     cutoff   26       -67.13517  -50.95008  24.1%  41.7   10s\n",
      "H 4753  1455                     -67.1351702  -51.01073  24.0%  41.3   10s\n",
      "H 6857  2148                     -67.1351685  -51.01073  24.0%  45.7   12s\n",
      " 10060  2841 infeasible   48       -67.13517  -52.24323  22.2%  51.4   15s\n",
      " 18266  4913 infeasible   40       -67.13517  -55.67478  17.1%  50.8   20s\n",
      " 23990  5901  -61.37974   25  173  -67.13517  -55.87255  16.8%  54.3   25s\n",
      " 29120  6882  -55.87255   33   20  -67.13517  -55.87255  16.8%  59.2   30s\n",
      " 33781  7453 infeasible   34       -67.13517  -55.87255  16.8%  63.1   35s\n",
      " 37527  7914  -63.35011   31  109  -67.13517  -55.87255  16.8%  66.6   40s\n",
      " 41828  8355  -61.44911   38   65  -67.13517  -55.87255  16.8%  69.0   45s\n",
      " 46153  8722     cutoff   39       -67.13517  -55.87255  16.8%  71.3   50s\n",
      " 53457 11385  -66.56925   39   57  -67.13517  -55.87255  16.8%  71.4   56s\n",
      " 59378 12808     cutoff   37       -67.13517  -55.87255  16.8%  70.8   60s\n",
      "\n",
      "Cutting planes:\n",
      "  Gomory: 92\n",
      "  Lift-and-project: 36\n",
      "  Cover: 83\n",
      "  Implied bound: 211\n",
      "  Clique: 14\n",
      "  MIR: 27\n",
      "  Flow cover: 91\n",
      "  GUB cover: 3\n",
      "  Inf proof: 2\n",
      "  Zero half: 67\n",
      "  RLT: 59\n",
      "  Relax-and-lift: 43\n",
      "  BQP: 4\n",
      "  PSD: 18\n",
      "\n",
      "Explored 60220 nodes (4290733 simplex iterations) in 60.03 seconds (59.26 work units)\n",
      "Thread count was 8 (of 8 available processors)\n",
      "\n",
      "Solution count 10: -67.1352 -67.1352 -67.1352 ... -70.2928\n",
      "\n",
      "Time limit reached\n",
      "Warning: max constraint violation (6.9660e-06) exceeds tolerance\n",
      "Warning: max general constraint violation (6.9660e-06) exceeds tolerance\n",
      "Best objective -6.713516853738e+01, best bound -5.587255224475e+01, gap 16.7760%\n"
     ]
    }
   ],
   "source": [
    "# Run the optimization\n",
    "exact_solution_obj.optimize()"
   ]
  },
  {
   "cell_type": "code",
   "execution_count": 5,
   "id": "90f9d0c3-fabe-4ad2-b36f-ad521abf97e1",
   "metadata": {
    "execution": {
     "iopub.execute_input": "2024-08-30T07:54:23.237813Z",
     "iopub.status.busy": "2024-08-30T07:54:23.237447Z",
     "iopub.status.idle": "2024-08-30T07:54:23.274913Z",
     "shell.execute_reply": "2024-08-30T07:54:23.273984Z",
     "shell.execute_reply.started": "2024-08-30T07:54:23.237795Z"
    }
   },
   "outputs": [
    {
     "name": "stdout",
     "output_type": "stream",
     "text": [
      "Warning: variable name \"is_S_active_var[2,frozenset({1, 2})]\" has a space\n",
      "Warning: default variable names used to write mps file\n",
      "Warning: variable name \"is_S_active_var[2,frozenset({1, 2})]\" has a space\n",
      "Warning: default variable names used to write solution file\n"
     ]
    }
   ],
   "source": [
    "# Save the results\n",
    "exact_solution_obj.save(f\"example_run_exact\")"
   ]
  },
  {
   "cell_type": "markdown",
   "id": "d748db42-661b-4d89-a6c6-04e35eec3f91",
   "metadata": {},
   "source": [
    "## Run Baseline Heuristic RVSA"
   ]
  },
  {
   "cell_type": "code",
   "execution_count": 6,
   "id": "ddcf8aca-f573-4e3f-90ed-bebde41b141b",
   "metadata": {
    "execution": {
     "iopub.execute_input": "2024-08-30T07:54:23.276208Z",
     "iopub.status.busy": "2024-08-30T07:54:23.275980Z",
     "iopub.status.idle": "2024-08-30T07:54:23.280563Z",
     "shell.execute_reply": "2024-08-30T07:54:23.279514Z",
     "shell.execute_reply.started": "2024-08-30T07:54:23.276187Z"
    }
   },
   "outputs": [],
   "source": [
    "# Create Solver object\n",
    "rvsa_heur_obj = HeuristicRVSA(G_sub=substrate_network, SFC_dict=slice_requests)"
   ]
  },
  {
   "cell_type": "code",
   "execution_count": 7,
   "id": "9d988ab8-f9b6-4531-84e0-71e6f2255d5d",
   "metadata": {
    "execution": {
     "iopub.execute_input": "2024-08-30T07:54:23.282217Z",
     "iopub.status.busy": "2024-08-30T07:54:23.281932Z",
     "iopub.status.idle": "2024-08-30T07:54:23.304707Z",
     "shell.execute_reply": "2024-08-30T07:54:23.303829Z",
     "shell.execute_reply.started": "2024-08-30T07:54:23.282193Z"
    }
   },
   "outputs": [
    {
     "name": "stdout",
     "output_type": "stream",
     "text": [
      "RVSA Heuristic runtime: 0.0174 sec\n"
     ]
    }
   ],
   "source": [
    "# 1. Run the heuristic to find a feasible placement\n",
    "heuristic_placement_time_st = time.perf_counter()\n",
    "placement = rvsa_heur_obj.run()\n",
    "heuristic_placement_time_end = time.perf_counter()\n",
    "heuristic_placement_time = heuristic_placement_time_end - heuristic_placement_time_st\n",
    "print(f\"RVSA Heuristic runtime: {heuristic_placement_time:.4f} sec\")"
   ]
  },
  {
   "cell_type": "code",
   "execution_count": 8,
   "id": "36da4378-ab8a-4a69-a749-ccdfcb2fabc2",
   "metadata": {
    "execution": {
     "iopub.execute_input": "2024-08-30T07:54:23.306151Z",
     "iopub.status.busy": "2024-08-30T07:54:23.305708Z",
     "iopub.status.idle": "2024-08-30T07:54:24.415668Z",
     "shell.execute_reply": "2024-08-30T07:54:24.414763Z",
     "shell.execute_reply.started": "2024-08-30T07:54:23.306133Z"
    }
   },
   "outputs": [
    {
     "name": "stderr",
     "output_type": "stream",
     "text": [
      "/home/jovyan/work/BME/qoe_and_availability_aware_slice_placement/heuristic_obj_max.py:147: RuntimeWarning: invalid value encountered in log\n",
      "  qoe_val = beta * np.log(gamma * qos_val + lambd) + mu\n"
     ]
    },
    {
     "name": "stdout",
     "output_type": "stream",
     "text": [
      "Solution found. Placement time = 0.0174, Objective score maximization time = 1.0990, total = 1.1164\n",
      "Objective scores: {'objective_value': -172.56004536080525, 'objective_1_value': 31.52664950669189, 'objective_2_value': 189.08669486749713, 'objective_3_value': 12, 'objective_4_value': 3}\n"
     ]
    }
   ],
   "source": [
    "# 2. Check if the placement was successful\n",
    "if placement is not None:\n",
    "    # We found a feasible placement\n",
    "    # Create the object which allocate more resources to improve QoE --> improve objective function\n",
    "    rvsa_obj_func_max = ObjectiveFunctionMaximizer(G_sub=substrate_network, SFC_dict=slice_requests, \n",
    "                                              obj_coeffs=object_coeffs, placement=placement)\n",
    "    obj_max_st = time.perf_counter()\n",
    "    rvsa_obj_func_max.run()\n",
    "    obj_max_end = time.perf_counter()\n",
    "    obj_max_time = obj_max_end - obj_max_st\n",
    "\n",
    "    # Save the intermediate data\n",
    "    final_solution = rvsa_obj_func_max.get_final_solution()\n",
    "    objective_scores = rvsa_obj_func_max.get_objective_scores()\n",
    "    with open(f'example_run_rvsa_solution.pickle', 'wb') as f:\n",
    "        pickle.dump(final_solution, f)\n",
    "    total_time = heuristic_placement_time + obj_max_time\n",
    "    print(f\"Solution found. Placement time = {heuristic_placement_time:.4f}, Objective score maximization time = {obj_max_time:.4f}, total = {total_time:.4f}\")\n",
    "    print(f\"Objective scores: {objective_scores}\")\n",
    "else:\n",
    "    # We did not find a feasible solution, we conclude that the problem is infeasible\n",
    "    print(\"No solution found.\")"
   ]
  },
  {
   "cell_type": "markdown",
   "id": "01603a2f-103b-4511-9a1d-192f490f37c4",
   "metadata": {},
   "source": [
    "## Run ResEff Heuristic"
   ]
  },
  {
   "cell_type": "code",
   "execution_count": 9,
   "id": "98d76fac-51d3-4ecc-9e5a-814391cf4372",
   "metadata": {
    "execution": {
     "iopub.execute_input": "2024-08-30T07:54:24.416886Z",
     "iopub.status.busy": "2024-08-30T07:54:24.416570Z",
     "iopub.status.idle": "2024-08-30T07:54:24.421212Z",
     "shell.execute_reply": "2024-08-30T07:54:24.420349Z",
     "shell.execute_reply.started": "2024-08-30T07:54:24.416860Z"
    }
   },
   "outputs": [],
   "source": [
    "# Create Solver object\n",
    "reseff_heur_obj = HeuristicCustom(G_sub=substrate_network, SFC_dict=slice_requests, method=\"resource_saving\")"
   ]
  },
  {
   "cell_type": "code",
   "execution_count": 10,
   "id": "b0f8e532-92c5-4fc7-a086-09abf8122b37",
   "metadata": {
    "execution": {
     "iopub.execute_input": "2024-08-30T07:54:24.422314Z",
     "iopub.status.busy": "2024-08-30T07:54:24.422026Z",
     "iopub.status.idle": "2024-08-30T07:54:24.459256Z",
     "shell.execute_reply": "2024-08-30T07:54:24.458416Z",
     "shell.execute_reply.started": "2024-08-30T07:54:24.422290Z"
    }
   },
   "outputs": [
    {
     "name": "stdout",
     "output_type": "stream",
     "text": [
      "ResEff Heuristic runtime: 0.0309 sec\n"
     ]
    }
   ],
   "source": [
    "# 1. Run the heuristic to find a feasible placement\n",
    "heuristic_placement_time_st = time.perf_counter()\n",
    "placement = reseff_heur_obj.run()\n",
    "heuristic_placement_time_end = time.perf_counter()\n",
    "heuristic_placement_time = heuristic_placement_time_end - heuristic_placement_time_st\n",
    "print(f\"ResEff Heuristic runtime: {heuristic_placement_time:.4f} sec\")"
   ]
  },
  {
   "cell_type": "code",
   "execution_count": 11,
   "id": "c6b58955-02ec-4b57-a3ae-7cc183ce346d",
   "metadata": {
    "execution": {
     "iopub.execute_input": "2024-08-30T07:54:24.460664Z",
     "iopub.status.busy": "2024-08-30T07:54:24.460358Z",
     "iopub.status.idle": "2024-08-30T07:54:25.542655Z",
     "shell.execute_reply": "2024-08-30T07:54:25.541905Z",
     "shell.execute_reply.started": "2024-08-30T07:54:24.460645Z"
    }
   },
   "outputs": [
    {
     "name": "stdout",
     "output_type": "stream",
     "text": [
      "Solution found. Placement time = 0.0309, Objective score maximization time = 1.0727, total = 1.1036\n",
      "Objective scores: {'objective_value': -157.37286005656924, 'objective_1_value': 32.318581107258616, 'objective_2_value': 176.69144116382785, 'objective_3_value': 10, 'objective_4_value': 3}\n"
     ]
    }
   ],
   "source": [
    "# 2. Check if the placement was successful\n",
    "if placement is not None:\n",
    "    # We found a feasible placement\n",
    "    # Create the object which allocate more resources to improve QoE --> improve objective function\n",
    "    reseff_obj_func_max = ObjectiveFunctionMaximizer(G_sub=substrate_network, SFC_dict=slice_requests, \n",
    "                                              obj_coeffs=object_coeffs, placement=placement)\n",
    "    obj_max_st = time.perf_counter()\n",
    "    reseff_obj_func_max.run()\n",
    "    obj_max_end = time.perf_counter()\n",
    "    obj_max_time = obj_max_end - obj_max_st\n",
    "\n",
    "    # Save the intermediate data\n",
    "    final_solution = reseff_obj_func_max.get_final_solution()\n",
    "    objective_scores = reseff_obj_func_max.get_objective_scores()\n",
    "    with open(f'example_run_reseff_solution.pickle', 'wb') as f:\n",
    "        pickle.dump(final_solution, f)\n",
    "    total_time = heuristic_placement_time + obj_max_time\n",
    "    print(f\"Solution found. Placement time = {heuristic_placement_time:.4f}, Objective score maximization time = {obj_max_time:.4f}, total = {total_time:.4f}\")\n",
    "    print(f\"Objective scores: {objective_scores}\")\n",
    "else:\n",
    "    # We did not find a feasible solution, we conclude that the problem is infeasible\n",
    "    print(\"No solution found.\")"
   ]
  },
  {
   "cell_type": "markdown",
   "id": "2efb0280-db85-4aae-9eb5-724280a08d6a",
   "metadata": {
    "execution": {
     "iopub.execute_input": "2024-08-30T07:08:38.532516Z",
     "iopub.status.busy": "2024-08-30T07:08:38.531869Z",
     "iopub.status.idle": "2024-08-30T07:08:38.535986Z",
     "shell.execute_reply": "2024-08-30T07:08:38.535113Z",
     "shell.execute_reply.started": "2024-08-30T07:08:38.532490Z"
    }
   },
   "source": [
    "## Run EdgeDisj Heuristic"
   ]
  },
  {
   "cell_type": "code",
   "execution_count": 12,
   "id": "3b9440a0-aba1-4182-99dd-21aa34f45559",
   "metadata": {
    "execution": {
     "iopub.execute_input": "2024-08-30T07:54:25.543759Z",
     "iopub.status.busy": "2024-08-30T07:54:25.543554Z",
     "iopub.status.idle": "2024-08-30T07:54:25.548033Z",
     "shell.execute_reply": "2024-08-30T07:54:25.547071Z",
     "shell.execute_reply.started": "2024-08-30T07:54:25.543742Z"
    }
   },
   "outputs": [],
   "source": [
    "# Create Solver object\n",
    "edgedisj_heur_obj = HeuristicCustom(G_sub=substrate_network, SFC_dict=slice_requests, method=\"link_disjoint\")"
   ]
  },
  {
   "cell_type": "code",
   "execution_count": 13,
   "id": "1797af26-296b-443c-bde3-384980f6f92e",
   "metadata": {
    "execution": {
     "iopub.execute_input": "2024-08-30T07:54:25.550655Z",
     "iopub.status.busy": "2024-08-30T07:54:25.550400Z",
     "iopub.status.idle": "2024-08-30T07:54:25.590323Z",
     "shell.execute_reply": "2024-08-30T07:54:25.589575Z",
     "shell.execute_reply.started": "2024-08-30T07:54:25.550639Z"
    }
   },
   "outputs": [
    {
     "name": "stdout",
     "output_type": "stream",
     "text": [
      "ResEff Heuristic runtime: 0.0352 sec\n"
     ]
    }
   ],
   "source": [
    "# 1. Run the heuristic to find a feasible placement\n",
    "heuristic_placement_time_st = time.perf_counter()\n",
    "placement = edgedisj_heur_obj.run()\n",
    "heuristic_placement_time_end = time.perf_counter()\n",
    "heuristic_placement_time = heuristic_placement_time_end - heuristic_placement_time_st\n",
    "print(f\"ResEff Heuristic runtime: {heuristic_placement_time:.4f} sec\")"
   ]
  },
  {
   "cell_type": "code",
   "execution_count": 14,
   "id": "2c749cfc-6d33-430a-81f1-b0aea794ddeb",
   "metadata": {
    "execution": {
     "iopub.execute_input": "2024-08-30T07:54:25.591188Z",
     "iopub.status.busy": "2024-08-30T07:54:25.591017Z",
     "iopub.status.idle": "2024-08-30T07:54:26.669331Z",
     "shell.execute_reply": "2024-08-30T07:54:26.668552Z",
     "shell.execute_reply.started": "2024-08-30T07:54:25.591172Z"
    }
   },
   "outputs": [
    {
     "name": "stdout",
     "output_type": "stream",
     "text": [
      "Solution found. Placement time = 0.0352, Objective score maximization time = 1.0696, total = 1.1048\n",
      "Objective scores: {'objective_value': -190.7054729019009, 'objective_1_value': 32.73992107636443, 'objective_2_value': 208.44539397826532, 'objective_3_value': 12, 'objective_4_value': 3}\n"
     ]
    }
   ],
   "source": [
    "# 2. Check if the placement was successful\n",
    "if placement is not None:\n",
    "    # We found a feasible placement\n",
    "    # Create the object which allocate more resources to improve QoE --> improve objective function\n",
    "    edgedisj_obj_func_max = ObjectiveFunctionMaximizer(G_sub=substrate_network, SFC_dict=slice_requests, \n",
    "                                              obj_coeffs=object_coeffs, placement=placement)\n",
    "    obj_max_st = time.perf_counter()\n",
    "    edgedisj_obj_func_max.run()\n",
    "    obj_max_end = time.perf_counter()\n",
    "    obj_max_time = obj_max_end - obj_max_st\n",
    "\n",
    "    # Save the intermediate data\n",
    "    final_solution = edgedisj_obj_func_max.get_final_solution()\n",
    "    objective_scores = edgedisj_obj_func_max.get_objective_scores()\n",
    "    with open(f'example_run_edgedisj_solution.pickle', 'wb') as f:\n",
    "        pickle.dump(final_solution, f)\n",
    "    total_time = heuristic_placement_time + obj_max_time\n",
    "    print(f\"Solution found. Placement time = {heuristic_placement_time:.4f}, Objective score maximization time = {obj_max_time:.4f}, total = {total_time:.4f}\")\n",
    "    print(f\"Objective scores: {objective_scores}\")\n",
    "else:\n",
    "    # We did not find a feasible solution, we conclude that the problem is infeasible\n",
    "    print(\"No solution found.\")"
   ]
  },
  {
   "cell_type": "markdown",
   "id": "9cc3038f-8c48-4bd0-b9e1-d13d6bf97044",
   "metadata": {},
   "source": [
    "## Run NodeDisj Heuristic"
   ]
  },
  {
   "cell_type": "code",
   "execution_count": 15,
   "id": "1bacbb50-50e4-411d-b41f-270de147b030",
   "metadata": {
    "execution": {
     "iopub.execute_input": "2024-08-30T07:54:26.670822Z",
     "iopub.status.busy": "2024-08-30T07:54:26.670189Z",
     "iopub.status.idle": "2024-08-30T07:54:26.674783Z",
     "shell.execute_reply": "2024-08-30T07:54:26.673823Z",
     "shell.execute_reply.started": "2024-08-30T07:54:26.670806Z"
    }
   },
   "outputs": [],
   "source": [
    "# Create Solver object\n",
    "nodedisj_heur_obj = HeuristicCustom(G_sub=substrate_network, SFC_dict=slice_requests, method=\"node_disjoint\")"
   ]
  },
  {
   "cell_type": "code",
   "execution_count": 16,
   "id": "6a5f5525-2562-4673-bc8d-aa358ddbb373",
   "metadata": {
    "execution": {
     "iopub.execute_input": "2024-08-30T07:54:26.676011Z",
     "iopub.status.busy": "2024-08-30T07:54:26.675688Z",
     "iopub.status.idle": "2024-08-30T07:54:26.716721Z",
     "shell.execute_reply": "2024-08-30T07:54:26.715798Z",
     "shell.execute_reply.started": "2024-08-30T07:54:26.675980Z"
    }
   },
   "outputs": [
    {
     "name": "stdout",
     "output_type": "stream",
     "text": [
      "ResEff Heuristic runtime: 0.0340 sec\n"
     ]
    }
   ],
   "source": [
    "# 1. Run the heuristic to find a feasible placement\n",
    "heuristic_placement_time_st = time.perf_counter()\n",
    "placement = nodedisj_heur_obj.run()\n",
    "heuristic_placement_time_end = time.perf_counter()\n",
    "heuristic_placement_time = heuristic_placement_time_end - heuristic_placement_time_st\n",
    "print(f\"ResEff Heuristic runtime: {heuristic_placement_time:.4f} sec\")"
   ]
  },
  {
   "cell_type": "code",
   "execution_count": 17,
   "id": "781fee36-2c3c-49a8-9050-31af485bde89",
   "metadata": {
    "execution": {
     "iopub.execute_input": "2024-08-30T07:54:26.718492Z",
     "iopub.status.busy": "2024-08-30T07:54:26.717838Z",
     "iopub.status.idle": "2024-08-30T07:54:27.807386Z",
     "shell.execute_reply": "2024-08-30T07:54:27.806647Z",
     "shell.execute_reply.started": "2024-08-30T07:54:26.718466Z"
    }
   },
   "outputs": [
    {
     "name": "stdout",
     "output_type": "stream",
     "text": [
      "Solution found. Placement time = 0.0340, Objective score maximization time = 1.0805, total = 1.1145\n",
      "Objective scores: {'objective_value': -190.7054729019009, 'objective_1_value': 32.73992107636443, 'objective_2_value': 208.44539397826532, 'objective_3_value': 12, 'objective_4_value': 3}\n"
     ]
    }
   ],
   "source": [
    "# 2. Check if the placement was successful\n",
    "if placement is not None:\n",
    "    # We found a feasible placement\n",
    "    # Create the object which allocate more resources to improve QoE --> improve objective function\n",
    "    nodedisj_obj_func_max = ObjectiveFunctionMaximizer(G_sub=substrate_network, SFC_dict=slice_requests, \n",
    "                                              obj_coeffs=object_coeffs, placement=placement)\n",
    "    obj_max_st = time.perf_counter()\n",
    "    nodedisj_obj_func_max.run()\n",
    "    obj_max_end = time.perf_counter()\n",
    "    obj_max_time = obj_max_end - obj_max_st\n",
    "\n",
    "    # Save the intermediate data\n",
    "    final_solution = nodedisj_obj_func_max.get_final_solution()\n",
    "    objective_scores = nodedisj_obj_func_max.get_objective_scores()\n",
    "    with open(f'example_run_nodedisj_solution.pickle', 'wb') as f:\n",
    "        pickle.dump(final_solution, f)\n",
    "    total_time = heuristic_placement_time + obj_max_time\n",
    "    print(f\"Solution found. Placement time = {heuristic_placement_time:.4f}, Objective score maximization time = {obj_max_time:.4f}, total = {total_time:.4f}\")\n",
    "    print(f\"Objective scores: {objective_scores}\")\n",
    "else:\n",
    "    # We did not find a feasible solution, we conclude that the problem is infeasible\n",
    "    print(\"No solution found.\")"
   ]
  }
 ],
 "metadata": {
  "kernelspec": {
   "display_name": "Python 3 (ipykernel)",
   "language": "python",
   "name": "python3"
  },
  "language_info": {
   "codemirror_mode": {
    "name": "ipython",
    "version": 3
   },
   "file_extension": ".py",
   "mimetype": "text/x-python",
   "name": "python",
   "nbconvert_exporter": "python",
   "pygments_lexer": "ipython3",
   "version": "3.11.8"
  }
 },
 "nbformat": 4,
 "nbformat_minor": 5
}
